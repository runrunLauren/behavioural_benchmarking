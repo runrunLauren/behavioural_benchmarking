{
 "cells": [
  {
   "cell_type": "code",
   "id": "initial_id",
   "metadata": {
    "collapsed": true,
    "ExecuteTime": {
     "end_time": "2024-09-20T10:21:03.706993Z",
     "start_time": "2024-09-20T10:21:03.276687Z"
    }
   },
   "source": [
    "import shutil\n",
    "import os\n",
    "from behavioural_benchmark.indicators import MemoisedIndicators"
   ],
   "outputs": [],
   "execution_count": 1
  },
  {
   "metadata": {},
   "cell_type": "markdown",
   "source": [
    "### IEEE AMMA: Indicator calculation\n",
    "\n",
    "Here I calculate the indicators from a path containing folders with my experiment results. This also involves moving the processed results to make my life easier."
   ],
   "id": "a1ec6cd4590d08aa"
  },
  {
   "metadata": {
    "ExecuteTime": {
     "end_time": "2024-09-20T10:21:03.712257Z",
     "start_time": "2024-09-20T10:21:03.708077Z"
    }
   },
   "cell_type": "code",
   "source": [
    "current_dir = os.path.dirname(os.getcwd())\n",
    "fresh_results = os.path.join(current_dir, '../fresh_results')\n",
    "if not os.path.exists(fresh_results):\n",
    "    os.makedirs(fresh_results)\n",
    "result_path = os.path.join(current_dir, \"../Results\")\n",
    "if not os.path.exists(result_path):\n",
    "    os.makedirs(result_path)"
   ],
   "id": "d9219f85105db0d5",
   "outputs": [],
   "execution_count": 2
  },
  {
   "metadata": {
    "ExecuteTime": {
     "end_time": "2024-09-20T10:21:21.699068Z",
     "start_time": "2024-09-20T10:21:21.690772Z"
    }
   },
   "cell_type": "code",
   "source": [
    "def get_tags(tag_path):\n",
    "    \"\"\"\n",
    "    Given a path to a folder like 'experiment/dimensions/population/total_iterations/function_name/metaheuristic/parameters/run',\n",
    "    split these into tags \n",
    "    :param tag_path: the path to where the results are stored\n",
    "    :return: the tags for the experiment\n",
    "    \"\"\"\n",
    "    experiment, dimension, population, total_iterations, function_name, metaheuristic, parameters, run = tag_path.split(\"/\")[-8:]\n",
    "    return experiment, dimension, population, total_iterations, function_name, metaheuristic, control_parameters, run\n",
    "\n",
    "def write_results(i: MemoisedIndicators, write_path, write_tags):\n",
    "    DRoC_A, DRoC_B, ERT_Diversity, Critical_Diversity = i.get_DRoC_A(), i.get_DRoC_B(), i.get_ERT_Diversity(), i.get_Critical_Diversity()\n",
    "    FRoC_A, FRoC_B, ERT_Fitness, Critical_Fitness = i.get_FRoC_A(), i.get_FRoC_B(), i.get_ERT_Fitness(), i.get_Critical_Fitness()\n",
    "    SRoC_A, SRoC_B, ERT_Separation, Critical_Separation = i.get_SRoC_A(), i.get_SRoC_B(), i.get_ERT_Separation(), i.get_Critical_Separation()\n",
    "    MRoC_A, MRoC_B, ERT_Mobility, Critical_Mobility = i.get_MRoC_A(), i.get_MRoC_B(), i.get_ERT_Mobility(), i.get_Critical_Mobility()\n",
    "    ntotal, nbest, nshared, best_strength = i.get_ntotal(), i.get_nbest(), i.get_nshared(), i.get_best_strength()\n",
    "    MID, MGC, SNID = i.get_MID(), i.get_MGC(), i.get_SNID()\n",
    "    EXPLORE, INFEASIBLE = i.get_EXPLORE_Percent(), i.get_INFEASIBLE_Percent()\n",
    "\n",
    "    if not os.path.exists(write_path):\n",
    "        os.makedirs(write_path)\n",
    "    with open(f\"{write_path}/results.csv\", 'a+') as f:\n",
    "        experiment, dimension, pop_size, max_iteration, function, alg, control_params, run = write_tags\n",
    "        f.write( # 34\n",
    "            f\"{experiment},{dimension},{pop_size},{max_iteration},{function},{alg},{control_params},{run},\" #8\n",
    "            f\"{DRoC_A},{DRoC_B},{ERT_Diversity},{Critical_Diversity},\" #4\n",
    "            f\"{FRoC_A},{FRoC_B},{ERT_Fitness},{Critical_Fitness},\" #4\n",
    "            f\"{SRoC_A},{SRoC_B},{ERT_Separation},{Critical_Separation},\" #4\n",
    "            f\"{MRoC_A},{MRoC_B},{ERT_Mobility},{Critical_Mobility},\" #4\n",
    "            f\"{ntotal},{nbest},{nshared},{best_strength},\" #4\n",
    "            f\"{MID},{MGC},{SNID},\" #3\n",
    "            f\"{EXPLORE},{INFEASIBLE}\\n\") #3\n",
    "\n",
    "def clean(src):\n",
    "    roots = [dir_root for dir_root, _, _ in os.walk(src)]\n",
    "    roots.reverse()\n",
    "    for dir_root in roots:\n",
    "        if os.path.exists(dir_root) and len(os.listdir(dir_root)) == 0:\n",
    "            os.rmdir(dir_root)"
   ],
   "id": "392ec0fcf65a8760",
   "outputs": [],
   "execution_count": 5
  },
  {
   "metadata": {
    "ExecuteTime": {
     "end_time": "2024-09-20T11:33:05.940764Z",
     "start_time": "2024-09-20T10:21:23.390101Z"
    }
   },
   "cell_type": "code",
   "source": [
    "expected_experiment_name = \"characteristicTest\"\n",
    "for experiment_name in os.listdir(fresh_results):\n",
    "    if expected_experiment_name not in experiment_name: continue\n",
    "    for dim in os.listdir(f\"{fresh_results}/{experiment_name}\"):\n",
    "        for population_size in os.listdir(f\"{fresh_results}/{experiment_name}/{dim}\"):\n",
    "            for max_iter in os.listdir(f\"{fresh_results}/{experiment_name}/{dim}/{population_size}\"):\n",
    "                for problem in os.listdir(f\"{fresh_results}/{experiment_name}/{dim}/{population_size}/{max_iter}\"):\n",
    "                    problem_root = f\"{fresh_results}/{experiment_name}/{dim}/{population_size}/{max_iter}/{problem}\"\n",
    "                    for algorithm in os.listdir(problem_root):\n",
    "                        for control_parameters in os.listdir(f\"{problem_root}/{algorithm}\"):\n",
    "                            root = f\"{problem_root}/{algorithm}/{control_parameters}\"\n",
    "                            if not os.path.isdir(root): continue\n",
    "                            for run in os.listdir(root):\n",
    "                                input_arg = f\"{root}/{run}\"\n",
    "                                indicators = MemoisedIndicators(input_arg)\n",
    "                                tags = get_tags(indicators.path)\n",
    "                                write_results(i=indicators, write_path=f\"{result_path}/{experiment_name}/\", write_tags=tags)\n",
    "                                shutil.move(\n",
    "                                    f\"{root}/{run}\",\n",
    "                                    f\"{root}/{run}\".replace(\"fresh_results\", \"processed_results\")\n",
    "                                    )\n",
    "    clean(f\"{fresh_results}/{experiment_name}\")"
   ],
   "id": "313e92f14f07c406",
   "outputs": [
    {
     "name": "stderr",
     "output_type": "stream",
     "text": [
      "/home/lauren/git/code_masters/behaviouralBenchmarking/.venv2/lib/python3.9/site-packages/pwlf/pwlf.py:1113: RuntimeWarning: invalid value encountered in divide\n",
      "  self.slopes = np.divide(\n"
     ]
    }
   ],
   "execution_count": 6
  }
 ],
 "metadata": {
  "kernelspec": {
   "display_name": "Python 3",
   "language": "python",
   "name": "python3"
  },
  "language_info": {
   "codemirror_mode": {
    "name": "ipython",
    "version": 2
   },
   "file_extension": ".py",
   "mimetype": "text/x-python",
   "name": "python",
   "nbconvert_exporter": "python",
   "pygments_lexer": "ipython2",
   "version": "2.7.6"
  }
 },
 "nbformat": 4,
 "nbformat_minor": 5
}
