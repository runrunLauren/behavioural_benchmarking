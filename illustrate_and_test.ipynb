{
 "cells": [
  {
   "metadata": {
    "ExecuteTime": {
     "end_time": "2024-09-06T10:05:28.070529Z",
     "start_time": "2024-09-06T10:05:28.068206Z"
    }
   },
   "cell_type": "code",
   "source": [
    "from behavioural_benchmark.indicators import MemoisedIndicators\n",
    "import numpy as np\n",
    "from math import floor\n",
    "import os\n",
    "import random"
   ],
   "id": "243a01969aa27300",
   "outputs": [],
   "execution_count": 39
  },
  {
   "metadata": {},
   "cell_type": "markdown",
   "source": [
    "To test and illustrate the indicators, let's construct examples where we know the answers. For each indicator we will create some data where we decide on the values of the indicators, and at the end we will assert that the calculated indicators match up with the expected ones.\n",
    "\n",
    "## Regression indicators\n",
    "\n",
    "For the regression based indicators, we can define graphs of two lines with set gradients. We can sample points along these lines, and save these to a file. Then later we can assert whether the regression indicators confirm the gradients we selected."
   ],
   "id": "1bd7cbd1746b94f4"
  },
  {
   "metadata": {
    "ExecuteTime": {
     "end_time": "2024-09-06T10:05:28.623237Z",
     "start_time": "2024-09-06T10:05:28.615150Z"
    }
   },
   "cell_type": "code",
   "source": [
    "c = 100\n",
    "x = np.array([j for j in range(0,100,2)])\n",
    "\n",
    "def sample_points(m_1, m_2):\n",
    "    y_1 = m_1 * x + c\n",
    "    c_2 = y_1[floor(0.70 * len(y_1[y_1 >= 0]))]\n",
    "    x_1 = x[y_1 >= c_2]\n",
    "    y_1 = y_1[y_1 >= c_2]\n",
    "\n",
    "    y_2 = m_2 * (x_1 + 1) + c_2\n",
    "    x_2 = x_1 + max(x_1) + 1\n",
    "    x_2 = x_2[y_2 >= 0]\n",
    "    y_2 = y_2[y_2 >= 0]\n",
    "    \n",
    "    return np.concat([x_1, x_2]), np.concat([y_1, y_2])\n",
    "\n",
    "def save_to_file(xf, yf, filename):\n",
    "    data = np.column_stack((xf, yf))\n",
    "    np.savetxt(f\"example_data/{filename}.csv\", data, delimiter=\",\", header=f\"iteration,{filename}\", comments=\"\", fmt=\"%.4f\")\n",
    "\n",
    "# diversity\n",
    "DRoC = -2\n",
    "CRoC = -0.9\n",
    "diversity_x, diversity_y = sample_points(DRoC, CRoC)\n",
    "save_to_file(diversity_x, diversity_y, \"diversity\")\n",
    "\n",
    "# fitness\n",
    "ARoC_B = -1.8\n",
    "LRoC_B = -1.0\n",
    "fitness_x, fitness_y = sample_points(ARoC_B, LRoC_B)\n",
    "save_to_file(fitness_x, fitness_y, \"fitness\")\n",
    "\n",
    "# distance\n",
    "ARoC_A = -2.05\n",
    "LRoC_A = -0.75\n",
    "distance_x, distance_y = sample_points(ARoC_A, LRoC_A)\n",
    "save_to_file(distance_x, distance_y, \"distance\")"
   ],
   "id": "389b200dccc3240a",
   "outputs": [],
   "execution_count": 40
  },
  {
   "metadata": {},
   "cell_type": "markdown",
   "source": [
    "For the network based indicators, we need to construct interaction data, and trajectory data.\n",
    "\n",
    "## Trajectory indicators\n",
    "\n",
    "For the trajectory data, we can decide on a number of nodes and shared nodes. We can then simulate trajectories between these nodes, making sure that every node is visited at least once. We can create two runs, with shared nodes appearing in both runs. We can arbitrarily set the fitness of each node equal to 0, as it's not required for the indicators we are testing."
   ],
   "id": "a93781780a8e311a"
  },
  {
   "metadata": {
    "ExecuteTime": {
     "end_time": "2024-09-06T10:05:29.292059Z",
     "start_time": "2024-09-06T10:05:29.286269Z"
    }
   },
   "cell_type": "code",
   "source": [
    "# STN\n",
    "shared_nodes = list(range(20, 30))\n",
    "nodes = {\n",
    "    0: list(range(20)) + shared_nodes,\n",
    "    1: shared_nodes + list(range(30, 30+20))\n",
    "}\n",
    "ntotal = len(np.unique(nodes[0] + nodes[1]))\n",
    "nshared = len(shared_nodes)\n",
    "\n",
    "file  = \"example_data/stn.csv\"\n",
    "if os.path.exists(file):\n",
    "    os.remove(file)\n",
    "with open(file, \"w\") as f:\n",
    "    f.write(\"Run,Fitness1,Solution1,Fitness2,Solution2\\n\")\n",
    "    for run in [0,1]:\n",
    "        current_position = dict(zip(range(10), random.sample(nodes[run], 10)))\n",
    "        \n",
    "        # Create a set of nodes to ensure each one is selected at least once\n",
    "        required_nodes = set(nodes[run])\n",
    "        selected_nodes = set(current_position.values())  # Keep track of selected nodes\n",
    "        for _step in range(10):\n",
    "            for individual in range(10):\n",
    "                # Ensure each node is selected at least once\n",
    "                if len(selected_nodes) < len(required_nodes):\n",
    "                    # Pick a node from the unselected ones\n",
    "                    next_position = random.choice(list(required_nodes - selected_nodes))\n",
    "                    selected_nodes.add(next_position)\n",
    "                else:\n",
    "                    # Once all nodes have been selected at least once, continue with random choice\n",
    "                    next_position = random.choice(nodes[run])\n",
    "                f.write(f\"{run},0,{current_position[individual]},0,{next_position}\\n\")\n",
    "                current_position[individual] = next_position"
   ],
   "id": "1e15c9762861521b",
   "outputs": [],
   "execution_count": 41
  },
  {
   "metadata": {},
   "cell_type": "markdown",
   "source": [
    "## Interaction  indicators\n",
    "\n",
    "For the interaction data, we can create a small network of 5 individuals, resulting in a 5 x 5 grid. We can choose an IDRoC, and then model the interactions to result in the chosen IDRoC. We can also make sure the solution node has a weight equal to some chosen ISS."
   ],
   "id": "798bb957f0d80ce7"
  },
  {
   "metadata": {
    "ExecuteTime": {
     "end_time": "2024-09-06T10:05:29.939077Z",
     "start_time": "2024-09-06T10:05:29.934176Z"
    }
   },
   "cell_type": "code",
   "source": [
    "# IN\n",
    "IDRoC = 4\n",
    "solution_index = 3\n",
    "ISS = 30 / (2 * 10)\n",
    "\n",
    "# let number subgraphs be of 1, 2, 3, 5 (y)\n",
    "# with maximum edge_weight removed equal to 0.0, 0.25, 0.5, 1.0 (x)\n",
    "# (5 - 1) / (1.0 - 0.0) = 4\n",
    "\n",
    "arr = np.array([\n",
    "    # 0   1   2   3   4\n",
    "    [ 0, 20,  0,  0,  0], # 0\n",
    "    [20,  0,  5,  0,  0], # 1\n",
    "    [ 0,  5,  0, 10,  0], # 2\n",
    "    [ 0,  0, 10,  0, 20], # 3\n",
    "    [ 0,  0,  0, 20,  0]  # 4\n",
    "])\n",
    "\n",
    "zeroes = np.zeros(shape=arr.shape)\n",
    "\n",
    "file  = \"example_data/interaction.txt\"\n",
    "if os.path.exists(file):\n",
    "    os.remove(file)\n",
    "with open(file, \"w\") as f:\n",
    "    f.write(f\"ig:#0 {' '.join(map(str, zeroes.flatten()))}\\n\")\n",
    "    f.write(f\"ig:#1 {' '.join(map(str, arr.flatten()))}\\n\")"
   ],
   "id": "7c157d528650ce6f",
   "outputs": [],
   "execution_count": 42
  },
  {
   "metadata": {},
   "cell_type": "markdown",
   "source": [
    "## ENES & INFEASIBLE%\n",
    "\n",
    "Finally, only the \"odd one out\" indicators are left. These are ENES, and infeasible percent. These are simple enough to verify."
   ],
   "id": "bcd9aed19d6247f5"
  },
  {
   "metadata": {
    "ExecuteTime": {
     "end_time": "2024-09-06T10:05:30.575198Z",
     "start_time": "2024-09-06T10:05:30.571154Z"
    }
   },
   "cell_type": "code",
   "source": [
    "total_iterations = 10\n",
    "fitness_evaluations = total_iterations * 5 \n",
    "infeasible_iterations = 2 * 5\n",
    "global_best_fitness = 0\n",
    "ENES = fitness_evaluations / total_iterations\n",
    "INFEASIBLE_Percent = infeasible_iterations / total_iterations\n",
    "\n",
    "file  = \"example_data/metadata.json\"\n",
    "if os.path.exists(file):\n",
    "    os.remove(file)\n",
    "with open(file, \"w\") as f:\n",
    "    f.write(\"{\" + f'\"total_iterations\": {total_iterations}, \"fitness_evaluations\": {fitness_evaluations}, \"infeasible_iterations\": {infeasible_iterations}, \"global_best_fitness\": {global_best_fitness}, \"solution_index\": {solution_index}' + \"}\")"
   ],
   "id": "6789ae262e51dacd",
   "outputs": [],
   "execution_count": 43
  },
  {
   "metadata": {},
   "cell_type": "markdown",
   "source": "## Tests",
   "id": "ee1d47ae6b02cd0e"
  },
  {
   "metadata": {
    "ExecuteTime": {
     "end_time": "2024-09-06T10:05:31.204855Z",
     "start_time": "2024-09-06T10:05:31.202455Z"
    }
   },
   "cell_type": "code",
   "source": [
    "k = MemoisedIndicators(path=\"example_data/\")\n",
    "\n",
    "def close_enough(expected, real):\n",
    "    assert expected == round(real,4)"
   ],
   "id": "fa651bf451c57efc",
   "outputs": [],
   "execution_count": 44
  },
  {
   "metadata": {
    "ExecuteTime": {
     "end_time": "2024-09-06T10:05:31.813987Z",
     "start_time": "2024-09-06T10:05:31.596983Z"
    }
   },
   "cell_type": "code",
   "source": [
    "close_enough(DRoC, k.get_DRoC())\n",
    "close_enough(CRoC, k.get_CRoC())\n",
    "close_enough(ARoC_A, k.get_ARoC_A())\n",
    "close_enough(LRoC_A, k.get_LRoC_A())\n",
    "close_enough(ARoC_B, k.get_ARoC_B())\n",
    "close_enough(LRoC_B, k.get_LRoC_B())"
   ],
   "id": "ae514d5e896d2193",
   "outputs": [],
   "execution_count": 45
  },
  {
   "metadata": {
    "ExecuteTime": {
     "end_time": "2024-09-06T10:05:31.892772Z",
     "start_time": "2024-09-06T10:05:31.881911Z"
    }
   },
   "cell_type": "code",
   "source": [
    "close_enough(ntotal, k.get_ntotal())\n",
    "close_enough(nshared, k.get_nshared())"
   ],
   "id": "7e920710875b0361",
   "outputs": [],
   "execution_count": 46
  },
  {
   "metadata": {
    "ExecuteTime": {
     "end_time": "2024-09-06T10:05:33.172852Z",
     "start_time": "2024-09-06T10:05:33.166459Z"
    }
   },
   "cell_type": "code",
   "source": [
    "close_enough(IDRoC, k.get_IDRoC())\n",
    "close_enough(ISS, k.get_ISS())"
   ],
   "id": "187231719053341e",
   "outputs": [],
   "execution_count": 48
  },
  {
   "metadata": {
    "ExecuteTime": {
     "end_time": "2024-09-06T10:05:34.249290Z",
     "start_time": "2024-09-06T10:05:34.245093Z"
    }
   },
   "cell_type": "code",
   "source": [
    "close_enough(ENES, k.get_ENES())\n",
    "close_enough(INFEASIBLE_Percent, k.get_INFEASIBLE_Percent())"
   ],
   "id": "3e2d0a54352d438a",
   "outputs": [],
   "execution_count": 49
  }
 ],
 "metadata": {
  "kernelspec": {
   "display_name": "Python 3",
   "language": "python",
   "name": "python3"
  },
  "language_info": {
   "codemirror_mode": {
    "name": "ipython",
    "version": 2
   },
   "file_extension": ".py",
   "mimetype": "text/x-python",
   "name": "python",
   "nbconvert_exporter": "python",
   "pygments_lexer": "ipython2",
   "version": "2.7.6"
  }
 },
 "nbformat": 4,
 "nbformat_minor": 5
}
