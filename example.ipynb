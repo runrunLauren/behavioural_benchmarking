{
 "cells": [
  {
   "metadata": {},
   "cell_type": "markdown",
   "source": "## Example of how to calculate the behavioural indicators of a metaheuristic, using this package",
   "id": "5498f404afc9d8e3"
  },
  {
   "metadata": {
    "ExecuteTime": {
     "end_time": "2024-08-30T14:47:07.737893Z",
     "start_time": "2024-08-30T14:47:07.734629Z"
    }
   },
   "cell_type": "code",
   "source": "from behavioural_benchmark.indicators import MemoisedIndicators",
   "id": "243a01969aa27300",
   "outputs": [],
   "execution_count": 3
  },
  {
   "metadata": {
    "ExecuteTime": {
     "end_time": "2024-08-30T15:34:33.480002Z",
     "start_time": "2024-08-30T15:34:33.478205Z"
    }
   },
   "cell_type": "code",
   "source": "k = MemoisedIndicators(path=\"example_path/\")",
   "id": "f116fa08eb56ada3",
   "outputs": [],
   "execution_count": 13
  },
  {
   "metadata": {},
   "cell_type": "code",
   "outputs": [],
   "execution_count": null,
   "source": "",
   "id": "2e4816d4c0dc3402"
  }
 ],
 "metadata": {
  "kernelspec": {
   "display_name": "Python 3",
   "language": "python",
   "name": "python3"
  },
  "language_info": {
   "codemirror_mode": {
    "name": "ipython",
    "version": 2
   },
   "file_extension": ".py",
   "mimetype": "text/x-python",
   "name": "python",
   "nbconvert_exporter": "python",
   "pygments_lexer": "ipython2",
   "version": "2.7.6"
  }
 },
 "nbformat": 4,
 "nbformat_minor": 5
}
